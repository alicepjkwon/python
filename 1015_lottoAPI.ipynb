{
  "nbformat": 4,
  "nbformat_minor": 0,
  "metadata": {
    "colab": {
      "name": "1015_lottoAPI.ipynb",
      "provenance": [],
      "collapsed_sections": [],
      "mount_file_id": "1xu2UJsTYDA88t3ClxNbhOd9AYwwLS_qw",
      "authorship_tag": "ABX9TyPPMyE9UKO1w6CwfJJZ+cqY",
      "include_colab_link": true
    },
    "kernelspec": {
      "name": "python3",
      "display_name": "Python 3"
    }
  },
  "cells": [
    {
      "cell_type": "markdown",
      "metadata": {
        "id": "view-in-github",
        "colab_type": "text"
      },
      "source": [
        "<a href=\"https://colab.research.google.com/github/alicepjkwon/python/blob/main/1015_lottoAPI.ipynb\" target=\"_parent\"><img src=\"https://colab.research.google.com/assets/colab-badge.svg\" alt=\"Open In Colab\"/></a>"
      ]
    },
    {
      "cell_type": "code",
      "metadata": {
        "id": "IVkUK7EvaxV7"
      },
      "source": [
        "import requests\n",
        "import pandas as pd\n",
        "from tqdm import tqdm\n",
        "import json"
      ],
      "execution_count": 1,
      "outputs": []
    },
    {
      "cell_type": "code",
      "metadata": {
        "id": "eYTkoo7DiHdJ",
        "outputId": "6b3a617b-5b52-4a37-c90d-9ff41d2b133e",
        "colab": {
          "base_uri": "https://localhost:8080/",
          "height": 54
        }
      },
      "source": [
        "url = 'https://www.dhlottery.co.kr/common.do?method=getLottoNumber&drwNo=932'\n",
        "res = requests.get(url)\n",
        "lotto_json = res.json()\n",
        "keys = lotto_json.keys()\n",
        "keys"
      ],
      "execution_count": 17,
      "outputs": [
        {
          "output_type": "execute_result",
          "data": {
            "text/plain": [
              "dict_keys(['totSellamnt', 'returnValue', 'drwNoDate', 'firstWinamnt', 'drwtNo6', 'drwtNo4', 'firstPrzwnerCo', 'drwtNo5', 'bnusNo', 'firstAccumamnt', 'drwNo', 'drwtNo2', 'drwtNo3', 'drwtNo1'])"
            ]
          },
          "metadata": {
            "tags": []
          },
          "execution_count": 17
        }
      ]
    },
    {
      "cell_type": "code",
      "metadata": {
        "id": "nUfAw3xUa90l"
      },
      "source": [
        "def getLotto (start, stop):\n",
        "    drwtNo1 = []\n",
        "    drwtNo2 = []\n",
        "    drwtNo3 = []\n",
        "    drwtNo4 = []\n",
        "    drwtNo5 = []\n",
        "    drwtNo6 = []\n",
        "    bnusNo = []\n",
        "    totSellamnt = []\n",
        "    drwNoDate = []\n",
        "    firstAccumamnt = []\n",
        "    firstPrzwnerCo = []\n",
        "    firstWinamnt = []\n",
        "\n",
        "    for i in tqdm(range(start, stop+1, 1)):\n",
        "        url = 'https://www.dhlottery.co.kr/common.do?method=getLottoNumber&drwNo=' + str(i)\n",
        "        res = requests.get(url)\n",
        "        lotto_json = res.json()\n",
        "        \n",
        "        drwtNo1.append(lotto_json['drwtNo1'])\n",
        "        drwtNo2.append(lotto_json['drwtNo2'])\n",
        "        drwtNo3.append(lotto_json['drwtNo3'])\n",
        "        drwtNo4.append(lotto_json['drwtNo4'])\n",
        "        drwtNo5.append(lotto_json['drwtNo5'])\n",
        "        drwtNo6.append(lotto_json['drwtNo6'])\n",
        "        bnusNo.append(lotto_json['bnusNo'])\n",
        "        totSellamnt.append(lotto_json['totSellamnt'])\n",
        "        drwNoDate.append(lotto_json['drwNoDate'])\n",
        "        firstAccumamnt.append(lotto_json['firstAccumamnt'])\n",
        "        firstPrzwnerCo.append(lotto_json['firstPrzwnerCo'])\n",
        "        firstWinamnt.append(lotto_json['firstWinamnt'])\n",
        "                            \n",
        "        lotto_dict = {\"추첨일\":drwNoDate, \"No1\":drwtNo1, \"No2\":drwtNo2, \"No3\":drwtNo3, \"No4\":drwtNo4, \"No5\":drwtNo5, \"No6\":drwtNo6, \n",
        "                      \"보너스번호\":bnusNo, \"총판매금액\":totSellamnt, \"1등총당첨금\":firstAccumamnt, \"1등당첨게임수\":firstPrzwnerCo,\n",
        "                      \"1등당첨금액\":firstWinamnt}\n",
        "    df_lotto = pd.DataFrame(lotto_dict)    \n",
        "\n",
        "    return df_lotto"
      ],
      "execution_count": 12,
      "outputs": []
    },
    {
      "cell_type": "code",
      "metadata": {
        "id": "1ALU3Xm_hlfU",
        "outputId": "6ca5a4f7-4f69-45f5-da9e-4009178286f2",
        "colab": {
          "base_uri": "https://localhost:8080/",
          "height": 34
        }
      },
      "source": [
        "lotto_nums = getLotto(1,932)"
      ],
      "execution_count": 18,
      "outputs": [
        {
          "output_type": "stream",
          "text": [
            "100%|██████████| 932/932 [11:16<00:00,  1.38it/s]\n"
          ],
          "name": "stderr"
        }
      ]
    },
    {
      "cell_type": "code",
      "metadata": {
        "id": "Vxvpd0EmnO-E"
      },
      "source": [
        "lotto_nums.to_excel('/content/drive/My Drive/lotto_1-932.xls')"
      ],
      "execution_count": 20,
      "outputs": []
    },
    {
      "cell_type": "code",
      "metadata": {
        "id": "GqO3wKBRs-YN"
      },
      "source": [
        "lotto_nums.to_csv('/content/drive/My Drive/lotto_1-932.csv')"
      ],
      "execution_count": 21,
      "outputs": []
    },
    {
      "cell_type": "code",
      "metadata": {
        "id": "IW4x6ckvuW1U",
        "outputId": "75a6ac1f-fd3c-442f-8df7-f8706bd822e6",
        "colab": {
          "base_uri": "https://localhost:8080/",
          "height": 34
        }
      },
      "source": [
        "type(lotto_nums)"
      ],
      "execution_count": 24,
      "outputs": [
        {
          "output_type": "execute_result",
          "data": {
            "text/plain": [
              "pandas.core.frame.DataFrame"
            ]
          },
          "metadata": {
            "tags": []
          },
          "execution_count": 24
        }
      ]
    },
    {
      "cell_type": "code",
      "metadata": {
        "id": "VDul5gQ-vg_l",
        "outputId": "001289dc-0e84-4ee2-9905-731e0eef84bb",
        "colab": {
          "base_uri": "https://localhost:8080/",
          "height": 69
        }
      },
      "source": [
        "lotto_nums.columns"
      ],
      "execution_count": 26,
      "outputs": [
        {
          "output_type": "execute_result",
          "data": {
            "text/plain": [
              "Index(['추첨일', 'No1', 'No2', 'No3', 'No4', 'No5', 'No6', '보너스번호', '총판매금액',\n",
              "       '1등총당첨금', '1등당첨게임수', '1등당첨금액'],\n",
              "      dtype='object')"
            ]
          },
          "metadata": {
            "tags": []
          },
          "execution_count": 26
        }
      ]
    },
    {
      "cell_type": "code",
      "metadata": {
        "id": "TeCwwo91un-W",
        "outputId": "1657b06e-f047-4336-8678-617296d8809c",
        "colab": {
          "base_uri": "https://localhost:8080/",
          "height": 404
        }
      },
      "source": [
        "six_nums = lotto_nums.loc[:,['No1','No2','No3','No4','No5','No6']]\n",
        "six_nums"
      ],
      "execution_count": 28,
      "outputs": [
        {
          "output_type": "execute_result",
          "data": {
            "text/html": [
              "<div>\n",
              "<style scoped>\n",
              "    .dataframe tbody tr th:only-of-type {\n",
              "        vertical-align: middle;\n",
              "    }\n",
              "\n",
              "    .dataframe tbody tr th {\n",
              "        vertical-align: top;\n",
              "    }\n",
              "\n",
              "    .dataframe thead th {\n",
              "        text-align: right;\n",
              "    }\n",
              "</style>\n",
              "<table border=\"1\" class=\"dataframe\">\n",
              "  <thead>\n",
              "    <tr style=\"text-align: right;\">\n",
              "      <th></th>\n",
              "      <th>No1</th>\n",
              "      <th>No2</th>\n",
              "      <th>No3</th>\n",
              "      <th>No4</th>\n",
              "      <th>No5</th>\n",
              "      <th>No6</th>\n",
              "    </tr>\n",
              "  </thead>\n",
              "  <tbody>\n",
              "    <tr>\n",
              "      <th>0</th>\n",
              "      <td>10</td>\n",
              "      <td>23</td>\n",
              "      <td>29</td>\n",
              "      <td>33</td>\n",
              "      <td>37</td>\n",
              "      <td>40</td>\n",
              "    </tr>\n",
              "    <tr>\n",
              "      <th>1</th>\n",
              "      <td>9</td>\n",
              "      <td>13</td>\n",
              "      <td>21</td>\n",
              "      <td>25</td>\n",
              "      <td>32</td>\n",
              "      <td>42</td>\n",
              "    </tr>\n",
              "    <tr>\n",
              "      <th>2</th>\n",
              "      <td>11</td>\n",
              "      <td>16</td>\n",
              "      <td>19</td>\n",
              "      <td>21</td>\n",
              "      <td>27</td>\n",
              "      <td>31</td>\n",
              "    </tr>\n",
              "    <tr>\n",
              "      <th>3</th>\n",
              "      <td>14</td>\n",
              "      <td>27</td>\n",
              "      <td>30</td>\n",
              "      <td>31</td>\n",
              "      <td>40</td>\n",
              "      <td>42</td>\n",
              "    </tr>\n",
              "    <tr>\n",
              "      <th>4</th>\n",
              "      <td>16</td>\n",
              "      <td>24</td>\n",
              "      <td>29</td>\n",
              "      <td>40</td>\n",
              "      <td>41</td>\n",
              "      <td>42</td>\n",
              "    </tr>\n",
              "    <tr>\n",
              "      <th>...</th>\n",
              "      <td>...</td>\n",
              "      <td>...</td>\n",
              "      <td>...</td>\n",
              "      <td>...</td>\n",
              "      <td>...</td>\n",
              "      <td>...</td>\n",
              "    </tr>\n",
              "    <tr>\n",
              "      <th>927</th>\n",
              "      <td>3</td>\n",
              "      <td>4</td>\n",
              "      <td>10</td>\n",
              "      <td>20</td>\n",
              "      <td>28</td>\n",
              "      <td>44</td>\n",
              "    </tr>\n",
              "    <tr>\n",
              "      <th>928</th>\n",
              "      <td>7</td>\n",
              "      <td>9</td>\n",
              "      <td>12</td>\n",
              "      <td>15</td>\n",
              "      <td>19</td>\n",
              "      <td>23</td>\n",
              "    </tr>\n",
              "    <tr>\n",
              "      <th>929</th>\n",
              "      <td>8</td>\n",
              "      <td>21</td>\n",
              "      <td>25</td>\n",
              "      <td>38</td>\n",
              "      <td>39</td>\n",
              "      <td>44</td>\n",
              "    </tr>\n",
              "    <tr>\n",
              "      <th>930</th>\n",
              "      <td>14</td>\n",
              "      <td>15</td>\n",
              "      <td>23</td>\n",
              "      <td>25</td>\n",
              "      <td>35</td>\n",
              "      <td>43</td>\n",
              "    </tr>\n",
              "    <tr>\n",
              "      <th>931</th>\n",
              "      <td>1</td>\n",
              "      <td>6</td>\n",
              "      <td>15</td>\n",
              "      <td>36</td>\n",
              "      <td>37</td>\n",
              "      <td>38</td>\n",
              "    </tr>\n",
              "  </tbody>\n",
              "</table>\n",
              "<p>932 rows × 6 columns</p>\n",
              "</div>"
            ],
            "text/plain": [
              "     No1  No2  No3  No4  No5  No6\n",
              "0     10   23   29   33   37   40\n",
              "1      9   13   21   25   32   42\n",
              "2     11   16   19   21   27   31\n",
              "3     14   27   30   31   40   42\n",
              "4     16   24   29   40   41   42\n",
              "..   ...  ...  ...  ...  ...  ...\n",
              "927    3    4   10   20   28   44\n",
              "928    7    9   12   15   19   23\n",
              "929    8   21   25   38   39   44\n",
              "930   14   15   23   25   35   43\n",
              "931    1    6   15   36   37   38\n",
              "\n",
              "[932 rows x 6 columns]"
            ]
          },
          "metadata": {
            "tags": []
          },
          "execution_count": 28
        }
      ]
    },
    {
      "cell_type": "code",
      "metadata": {
        "id": "1iUhaIcnvObL"
      },
      "source": [
        "most_frq = six_nums.value_counts\n",
        "# least_frq = "
      ],
      "execution_count": 32,
      "outputs": []
    },
    {
      "cell_type": "code",
      "metadata": {
        "id": "veY_4qAHwwPJ",
        "outputId": "7a87161b-ce21-4743-b221-e4c9e77ffde3",
        "colab": {
          "base_uri": "https://localhost:8080/",
          "height": 261
        }
      },
      "source": [
        "most_frq"
      ],
      "execution_count": 33,
      "outputs": [
        {
          "output_type": "execute_result",
          "data": {
            "text/plain": [
              "<bound method DataFrame.value_counts of      No1  No2  No3  No4  No5  No6\n",
              "0     10   23   29   33   37   40\n",
              "1      9   13   21   25   32   42\n",
              "2     11   16   19   21   27   31\n",
              "3     14   27   30   31   40   42\n",
              "4     16   24   29   40   41   42\n",
              "..   ...  ...  ...  ...  ...  ...\n",
              "927    3    4   10   20   28   44\n",
              "928    7    9   12   15   19   23\n",
              "929    8   21   25   38   39   44\n",
              "930   14   15   23   25   35   43\n",
              "931    1    6   15   36   37   38\n",
              "\n",
              "[932 rows x 6 columns]>"
            ]
          },
          "metadata": {
            "tags": []
          },
          "execution_count": 33
        }
      ]
    },
    {
      "cell_type": "code",
      "metadata": {
        "id": "6gtC1ynsxQsR",
        "outputId": "cb14eb98-39bb-4b17-e001-c4c2db4be5eb",
        "colab": {
          "base_uri": "https://localhost:8080/",
          "height": 139
        }
      },
      "source": [
        "six_nums.dtypes"
      ],
      "execution_count": 34,
      "outputs": [
        {
          "output_type": "execute_result",
          "data": {
            "text/plain": [
              "No1    int64\n",
              "No2    int64\n",
              "No3    int64\n",
              "No4    int64\n",
              "No5    int64\n",
              "No6    int64\n",
              "dtype: object"
            ]
          },
          "metadata": {
            "tags": []
          },
          "execution_count": 34
        }
      ]
    },
    {
      "cell_type": "code",
      "metadata": {
        "id": "j7SaeEzV1dHc"
      },
      "source": [
        "num_list = list(lotto_nums['No1'])+list(lotto_nums['No2'])+list(lotto_nums['No3'])+list(lotto_nums['No4'])+list(lotto_nums['No5'])+list(lotto_nums['No6'])\n"
      ],
      "execution_count": 37,
      "outputs": []
    },
    {
      "cell_type": "code",
      "metadata": {
        "id": "tpTe5AZHx7M2"
      },
      "source": [
        "from collections import Counter\n",
        "count = Counter(num_list)\n",
        "most_frq = count.most_common(45)"
      ],
      "execution_count": 38,
      "outputs": []
    },
    {
      "cell_type": "code",
      "metadata": {
        "id": "VhYAirG_0sAy",
        "outputId": "d01a0eb3-d163-4eb8-effd-acb6cad3d3a6",
        "colab": {
          "base_uri": "https://localhost:8080/",
          "height": 802
        }
      },
      "source": [
        "most_frq"
      ],
      "execution_count": 39,
      "outputs": [
        {
          "output_type": "execute_result",
          "data": {
            "text/plain": [
              "[(34, 146),\n",
              " (43, 139),\n",
              " (27, 137),\n",
              " (17, 135),\n",
              " (18, 135),\n",
              " (12, 133),\n",
              " (39, 133),\n",
              " (14, 132),\n",
              " (40, 132),\n",
              " (1, 130),\n",
              " (13, 130),\n",
              " (20, 130),\n",
              " (45, 130),\n",
              " (19, 129),\n",
              " (33, 129),\n",
              " (5, 128),\n",
              " (37, 128),\n",
              " (10, 127),\n",
              " (11, 126),\n",
              " (4, 126),\n",
              " (15, 126),\n",
              " (38, 126),\n",
              " (8, 125),\n",
              " (26, 125),\n",
              " (21, 125),\n",
              " (31, 125),\n",
              " (3, 124),\n",
              " (7, 124),\n",
              " (44, 124),\n",
              " (24, 123),\n",
              " (2, 122),\n",
              " (36, 122),\n",
              " (16, 121),\n",
              " (25, 121),\n",
              " (42, 121),\n",
              " (6, 118),\n",
              " (28, 116),\n",
              " (35, 114),\n",
              " (41, 113),\n",
              " (23, 112),\n",
              " (29, 111),\n",
              " (30, 111),\n",
              " (32, 108),\n",
              " (22, 105),\n",
              " (9, 95)]"
            ]
          },
          "metadata": {
            "tags": []
          },
          "execution_count": 39
        }
      ]
    },
    {
      "cell_type": "code",
      "metadata": {
        "id": "MDbbnI1J0tsX",
        "outputId": "be9a42e1-c5c4-403f-d855-6db865737eba",
        "colab": {
          "base_uri": "https://localhost:8080/",
          "height": 1000
        }
      },
      "source": [
        "df_most_frq = pd.DataFrame(most_frq)\n",
        "df_most_frq"
      ],
      "execution_count": 42,
      "outputs": [
        {
          "output_type": "execute_result",
          "data": {
            "text/html": [
              "<div>\n",
              "<style scoped>\n",
              "    .dataframe tbody tr th:only-of-type {\n",
              "        vertical-align: middle;\n",
              "    }\n",
              "\n",
              "    .dataframe tbody tr th {\n",
              "        vertical-align: top;\n",
              "    }\n",
              "\n",
              "    .dataframe thead th {\n",
              "        text-align: right;\n",
              "    }\n",
              "</style>\n",
              "<table border=\"1\" class=\"dataframe\">\n",
              "  <thead>\n",
              "    <tr style=\"text-align: right;\">\n",
              "      <th></th>\n",
              "      <th>0</th>\n",
              "      <th>1</th>\n",
              "    </tr>\n",
              "  </thead>\n",
              "  <tbody>\n",
              "    <tr>\n",
              "      <th>0</th>\n",
              "      <td>34</td>\n",
              "      <td>146</td>\n",
              "    </tr>\n",
              "    <tr>\n",
              "      <th>1</th>\n",
              "      <td>43</td>\n",
              "      <td>139</td>\n",
              "    </tr>\n",
              "    <tr>\n",
              "      <th>2</th>\n",
              "      <td>27</td>\n",
              "      <td>137</td>\n",
              "    </tr>\n",
              "    <tr>\n",
              "      <th>3</th>\n",
              "      <td>17</td>\n",
              "      <td>135</td>\n",
              "    </tr>\n",
              "    <tr>\n",
              "      <th>4</th>\n",
              "      <td>18</td>\n",
              "      <td>135</td>\n",
              "    </tr>\n",
              "    <tr>\n",
              "      <th>5</th>\n",
              "      <td>12</td>\n",
              "      <td>133</td>\n",
              "    </tr>\n",
              "    <tr>\n",
              "      <th>6</th>\n",
              "      <td>39</td>\n",
              "      <td>133</td>\n",
              "    </tr>\n",
              "    <tr>\n",
              "      <th>7</th>\n",
              "      <td>14</td>\n",
              "      <td>132</td>\n",
              "    </tr>\n",
              "    <tr>\n",
              "      <th>8</th>\n",
              "      <td>40</td>\n",
              "      <td>132</td>\n",
              "    </tr>\n",
              "    <tr>\n",
              "      <th>9</th>\n",
              "      <td>1</td>\n",
              "      <td>130</td>\n",
              "    </tr>\n",
              "    <tr>\n",
              "      <th>10</th>\n",
              "      <td>13</td>\n",
              "      <td>130</td>\n",
              "    </tr>\n",
              "    <tr>\n",
              "      <th>11</th>\n",
              "      <td>20</td>\n",
              "      <td>130</td>\n",
              "    </tr>\n",
              "    <tr>\n",
              "      <th>12</th>\n",
              "      <td>45</td>\n",
              "      <td>130</td>\n",
              "    </tr>\n",
              "    <tr>\n",
              "      <th>13</th>\n",
              "      <td>19</td>\n",
              "      <td>129</td>\n",
              "    </tr>\n",
              "    <tr>\n",
              "      <th>14</th>\n",
              "      <td>33</td>\n",
              "      <td>129</td>\n",
              "    </tr>\n",
              "    <tr>\n",
              "      <th>15</th>\n",
              "      <td>5</td>\n",
              "      <td>128</td>\n",
              "    </tr>\n",
              "    <tr>\n",
              "      <th>16</th>\n",
              "      <td>37</td>\n",
              "      <td>128</td>\n",
              "    </tr>\n",
              "    <tr>\n",
              "      <th>17</th>\n",
              "      <td>10</td>\n",
              "      <td>127</td>\n",
              "    </tr>\n",
              "    <tr>\n",
              "      <th>18</th>\n",
              "      <td>11</td>\n",
              "      <td>126</td>\n",
              "    </tr>\n",
              "    <tr>\n",
              "      <th>19</th>\n",
              "      <td>4</td>\n",
              "      <td>126</td>\n",
              "    </tr>\n",
              "    <tr>\n",
              "      <th>20</th>\n",
              "      <td>15</td>\n",
              "      <td>126</td>\n",
              "    </tr>\n",
              "    <tr>\n",
              "      <th>21</th>\n",
              "      <td>38</td>\n",
              "      <td>126</td>\n",
              "    </tr>\n",
              "    <tr>\n",
              "      <th>22</th>\n",
              "      <td>8</td>\n",
              "      <td>125</td>\n",
              "    </tr>\n",
              "    <tr>\n",
              "      <th>23</th>\n",
              "      <td>26</td>\n",
              "      <td>125</td>\n",
              "    </tr>\n",
              "    <tr>\n",
              "      <th>24</th>\n",
              "      <td>21</td>\n",
              "      <td>125</td>\n",
              "    </tr>\n",
              "    <tr>\n",
              "      <th>25</th>\n",
              "      <td>31</td>\n",
              "      <td>125</td>\n",
              "    </tr>\n",
              "    <tr>\n",
              "      <th>26</th>\n",
              "      <td>3</td>\n",
              "      <td>124</td>\n",
              "    </tr>\n",
              "    <tr>\n",
              "      <th>27</th>\n",
              "      <td>7</td>\n",
              "      <td>124</td>\n",
              "    </tr>\n",
              "    <tr>\n",
              "      <th>28</th>\n",
              "      <td>44</td>\n",
              "      <td>124</td>\n",
              "    </tr>\n",
              "    <tr>\n",
              "      <th>29</th>\n",
              "      <td>24</td>\n",
              "      <td>123</td>\n",
              "    </tr>\n",
              "    <tr>\n",
              "      <th>30</th>\n",
              "      <td>2</td>\n",
              "      <td>122</td>\n",
              "    </tr>\n",
              "    <tr>\n",
              "      <th>31</th>\n",
              "      <td>36</td>\n",
              "      <td>122</td>\n",
              "    </tr>\n",
              "    <tr>\n",
              "      <th>32</th>\n",
              "      <td>16</td>\n",
              "      <td>121</td>\n",
              "    </tr>\n",
              "    <tr>\n",
              "      <th>33</th>\n",
              "      <td>25</td>\n",
              "      <td>121</td>\n",
              "    </tr>\n",
              "    <tr>\n",
              "      <th>34</th>\n",
              "      <td>42</td>\n",
              "      <td>121</td>\n",
              "    </tr>\n",
              "    <tr>\n",
              "      <th>35</th>\n",
              "      <td>6</td>\n",
              "      <td>118</td>\n",
              "    </tr>\n",
              "    <tr>\n",
              "      <th>36</th>\n",
              "      <td>28</td>\n",
              "      <td>116</td>\n",
              "    </tr>\n",
              "    <tr>\n",
              "      <th>37</th>\n",
              "      <td>35</td>\n",
              "      <td>114</td>\n",
              "    </tr>\n",
              "    <tr>\n",
              "      <th>38</th>\n",
              "      <td>41</td>\n",
              "      <td>113</td>\n",
              "    </tr>\n",
              "    <tr>\n",
              "      <th>39</th>\n",
              "      <td>23</td>\n",
              "      <td>112</td>\n",
              "    </tr>\n",
              "    <tr>\n",
              "      <th>40</th>\n",
              "      <td>29</td>\n",
              "      <td>111</td>\n",
              "    </tr>\n",
              "    <tr>\n",
              "      <th>41</th>\n",
              "      <td>30</td>\n",
              "      <td>111</td>\n",
              "    </tr>\n",
              "    <tr>\n",
              "      <th>42</th>\n",
              "      <td>32</td>\n",
              "      <td>108</td>\n",
              "    </tr>\n",
              "    <tr>\n",
              "      <th>43</th>\n",
              "      <td>22</td>\n",
              "      <td>105</td>\n",
              "    </tr>\n",
              "    <tr>\n",
              "      <th>44</th>\n",
              "      <td>9</td>\n",
              "      <td>95</td>\n",
              "    </tr>\n",
              "  </tbody>\n",
              "</table>\n",
              "</div>"
            ],
            "text/plain": [
              "     0    1\n",
              "0   34  146\n",
              "1   43  139\n",
              "2   27  137\n",
              "3   17  135\n",
              "4   18  135\n",
              "5   12  133\n",
              "6   39  133\n",
              "7   14  132\n",
              "8   40  132\n",
              "9    1  130\n",
              "10  13  130\n",
              "11  20  130\n",
              "12  45  130\n",
              "13  19  129\n",
              "14  33  129\n",
              "15   5  128\n",
              "16  37  128\n",
              "17  10  127\n",
              "18  11  126\n",
              "19   4  126\n",
              "20  15  126\n",
              "21  38  126\n",
              "22   8  125\n",
              "23  26  125\n",
              "24  21  125\n",
              "25  31  125\n",
              "26   3  124\n",
              "27   7  124\n",
              "28  44  124\n",
              "29  24  123\n",
              "30   2  122\n",
              "31  36  122\n",
              "32  16  121\n",
              "33  25  121\n",
              "34  42  121\n",
              "35   6  118\n",
              "36  28  116\n",
              "37  35  114\n",
              "38  41  113\n",
              "39  23  112\n",
              "40  29  111\n",
              "41  30  111\n",
              "42  32  108\n",
              "43  22  105\n",
              "44   9   95"
            ]
          },
          "metadata": {
            "tags": []
          },
          "execution_count": 42
        }
      ]
    },
    {
      "cell_type": "code",
      "metadata": {
        "id": "-Egt60En4RaN",
        "outputId": "f73036ee-8f97-40a9-c4ad-7192fd4ad80d",
        "colab": {
          "base_uri": "https://localhost:8080/",
          "height": 244
        }
      },
      "source": [
        "six_nums.value_counts(sort=False)"
      ],
      "execution_count": 48,
      "outputs": [
        {
          "output_type": "execute_result",
          "data": {
            "text/plain": [
              "No1  No2  No3  No4  No5  No6\n",
              "1    2    3    9    12   23     1\n",
              "               14   27   42     1\n",
              "               15   20   25     1\n",
              "          4    8    19   38     1\n",
              "               23   31   34     1\n",
              "                               ..\n",
              "25   27   29   36   38   40     1\n",
              "26   27   28   42   43   45     1\n",
              "     29   30   33   41   42     1\n",
              "29   31   35   38   40   44     1\n",
              "35   36   37   41   44   45     1\n",
              "Length: 932, dtype: int64"
            ]
          },
          "metadata": {
            "tags": []
          },
          "execution_count": 48
        }
      ]
    },
    {
      "cell_type": "code",
      "metadata": {
        "id": "A72IxmT62Pb8",
        "outputId": "e6cbeaf3-e5b8-4cda-abc3-ea06d8af334f",
        "colab": {
          "base_uri": "https://localhost:8080/",
          "height": 196
        }
      },
      "source": [
        "lotto_nums.sort_values(by=['1등당첨금액'], axis=0, ascending=False).head()"
      ],
      "execution_count": 50,
      "outputs": [
        {
          "output_type": "execute_result",
          "data": {
            "text/html": [
              "<div>\n",
              "<style scoped>\n",
              "    .dataframe tbody tr th:only-of-type {\n",
              "        vertical-align: middle;\n",
              "    }\n",
              "\n",
              "    .dataframe tbody tr th {\n",
              "        vertical-align: top;\n",
              "    }\n",
              "\n",
              "    .dataframe thead th {\n",
              "        text-align: right;\n",
              "    }\n",
              "</style>\n",
              "<table border=\"1\" class=\"dataframe\">\n",
              "  <thead>\n",
              "    <tr style=\"text-align: right;\">\n",
              "      <th></th>\n",
              "      <th>추첨일</th>\n",
              "      <th>No1</th>\n",
              "      <th>No2</th>\n",
              "      <th>No3</th>\n",
              "      <th>No4</th>\n",
              "      <th>No5</th>\n",
              "      <th>No6</th>\n",
              "      <th>보너스번호</th>\n",
              "      <th>총판매금액</th>\n",
              "      <th>1등총당첨금</th>\n",
              "      <th>1등당첨게임수</th>\n",
              "      <th>1등당첨금액</th>\n",
              "    </tr>\n",
              "  </thead>\n",
              "  <tbody>\n",
              "    <tr>\n",
              "      <th>18</th>\n",
              "      <td>2003-04-12</td>\n",
              "      <td>6</td>\n",
              "      <td>30</td>\n",
              "      <td>38</td>\n",
              "      <td>39</td>\n",
              "      <td>40</td>\n",
              "      <td>43</td>\n",
              "      <td>26</td>\n",
              "      <td>105957818000</td>\n",
              "      <td>0</td>\n",
              "      <td>1</td>\n",
              "      <td>40722959400</td>\n",
              "    </tr>\n",
              "    <tr>\n",
              "      <th>24</th>\n",
              "      <td>2003-05-24</td>\n",
              "      <td>2</td>\n",
              "      <td>4</td>\n",
              "      <td>21</td>\n",
              "      <td>26</td>\n",
              "      <td>43</td>\n",
              "      <td>44</td>\n",
              "      <td>16</td>\n",
              "      <td>120073768000</td>\n",
              "      <td>0</td>\n",
              "      <td>2</td>\n",
              "      <td>24227745300</td>\n",
              "    </tr>\n",
              "    <tr>\n",
              "      <th>19</th>\n",
              "      <td>2003-04-19</td>\n",
              "      <td>10</td>\n",
              "      <td>14</td>\n",
              "      <td>18</td>\n",
              "      <td>20</td>\n",
              "      <td>23</td>\n",
              "      <td>30</td>\n",
              "      <td>41</td>\n",
              "      <td>81056776000</td>\n",
              "      <td>0</td>\n",
              "      <td>1</td>\n",
              "      <td>19352212800</td>\n",
              "    </tr>\n",
              "    <tr>\n",
              "      <th>42</th>\n",
              "      <td>2003-09-27</td>\n",
              "      <td>6</td>\n",
              "      <td>31</td>\n",
              "      <td>35</td>\n",
              "      <td>38</td>\n",
              "      <td>39</td>\n",
              "      <td>44</td>\n",
              "      <td>1</td>\n",
              "      <td>74686296000</td>\n",
              "      <td>0</td>\n",
              "      <td>1</td>\n",
              "      <td>17749630800</td>\n",
              "    </tr>\n",
              "    <tr>\n",
              "      <th>14</th>\n",
              "      <td>2003-03-15</td>\n",
              "      <td>3</td>\n",
              "      <td>4</td>\n",
              "      <td>16</td>\n",
              "      <td>30</td>\n",
              "      <td>31</td>\n",
              "      <td>37</td>\n",
              "      <td>13</td>\n",
              "      <td>73264910000</td>\n",
              "      <td>0</td>\n",
              "      <td>1</td>\n",
              "      <td>17014245000</td>\n",
              "    </tr>\n",
              "  </tbody>\n",
              "</table>\n",
              "</div>"
            ],
            "text/plain": [
              "           추첨일  No1  No2  No3  ...         총판매금액  1등총당첨금  1등당첨게임수       1등당첨금액\n",
              "18  2003-04-12    6   30   38  ...  105957818000       0        1  40722959400\n",
              "24  2003-05-24    2    4   21  ...  120073768000       0        2  24227745300\n",
              "19  2003-04-19   10   14   18  ...   81056776000       0        1  19352212800\n",
              "42  2003-09-27    6   31   35  ...   74686296000       0        1  17749630800\n",
              "14  2003-03-15    3    4   16  ...   73264910000       0        1  17014245000\n",
              "\n",
              "[5 rows x 12 columns]"
            ]
          },
          "metadata": {
            "tags": []
          },
          "execution_count": 50
        }
      ]
    },
    {
      "cell_type": "code",
      "metadata": {
        "id": "9cgdkf5A3r76",
        "outputId": "46b3724d-87c8-49e5-fb4e-a2657a48f2da",
        "colab": {
          "base_uri": "https://localhost:8080/",
          "height": 345
        }
      },
      "source": [
        "lotto_nums.sort_values(by=['1등당첨게임수'], axis=0, ascending=False).head(10)"
      ],
      "execution_count": 52,
      "outputs": [
        {
          "output_type": "execute_result",
          "data": {
            "text/html": [
              "<div>\n",
              "<style scoped>\n",
              "    .dataframe tbody tr th:only-of-type {\n",
              "        vertical-align: middle;\n",
              "    }\n",
              "\n",
              "    .dataframe tbody tr th {\n",
              "        vertical-align: top;\n",
              "    }\n",
              "\n",
              "    .dataframe thead th {\n",
              "        text-align: right;\n",
              "    }\n",
              "</style>\n",
              "<table border=\"1\" class=\"dataframe\">\n",
              "  <thead>\n",
              "    <tr style=\"text-align: right;\">\n",
              "      <th></th>\n",
              "      <th>추첨일</th>\n",
              "      <th>No1</th>\n",
              "      <th>No2</th>\n",
              "      <th>No3</th>\n",
              "      <th>No4</th>\n",
              "      <th>No5</th>\n",
              "      <th>No6</th>\n",
              "      <th>보너스번호</th>\n",
              "      <th>총판매금액</th>\n",
              "      <th>1등총당첨금</th>\n",
              "      <th>1등당첨게임수</th>\n",
              "      <th>1등당첨금액</th>\n",
              "    </tr>\n",
              "  </thead>\n",
              "  <tbody>\n",
              "    <tr>\n",
              "      <th>545</th>\n",
              "      <td>2013-05-18</td>\n",
              "      <td>8</td>\n",
              "      <td>17</td>\n",
              "      <td>20</td>\n",
              "      <td>27</td>\n",
              "      <td>37</td>\n",
              "      <td>43</td>\n",
              "      <td>6</td>\n",
              "      <td>56713166000</td>\n",
              "      <td>12178198500</td>\n",
              "      <td>30</td>\n",
              "      <td>405939950</td>\n",
              "    </tr>\n",
              "    <tr>\n",
              "      <th>20</th>\n",
              "      <td>2003-04-26</td>\n",
              "      <td>6</td>\n",
              "      <td>12</td>\n",
              "      <td>17</td>\n",
              "      <td>18</td>\n",
              "      <td>31</td>\n",
              "      <td>32</td>\n",
              "      <td>21</td>\n",
              "      <td>84247142000</td>\n",
              "      <td>0</td>\n",
              "      <td>23</td>\n",
              "      <td>797475400</td>\n",
              "    </tr>\n",
              "    <tr>\n",
              "      <th>776</th>\n",
              "      <td>2017-10-21</td>\n",
              "      <td>6</td>\n",
              "      <td>12</td>\n",
              "      <td>17</td>\n",
              "      <td>21</td>\n",
              "      <td>34</td>\n",
              "      <td>37</td>\n",
              "      <td>18</td>\n",
              "      <td>75534360000</td>\n",
              "      <td>17502828756</td>\n",
              "      <td>21</td>\n",
              "      <td>833468036</td>\n",
              "    </tr>\n",
              "    <tr>\n",
              "      <th>756</th>\n",
              "      <td>2017-06-03</td>\n",
              "      <td>6</td>\n",
              "      <td>7</td>\n",
              "      <td>11</td>\n",
              "      <td>17</td>\n",
              "      <td>33</td>\n",
              "      <td>44</td>\n",
              "      <td>1</td>\n",
              "      <td>71053002000</td>\n",
              "      <td>15536637018</td>\n",
              "      <td>21</td>\n",
              "      <td>739839858</td>\n",
              "    </tr>\n",
              "    <tr>\n",
              "      <th>909</th>\n",
              "      <td>2020-05-09</td>\n",
              "      <td>1</td>\n",
              "      <td>11</td>\n",
              "      <td>17</td>\n",
              "      <td>27</td>\n",
              "      <td>35</td>\n",
              "      <td>39</td>\n",
              "      <td>31</td>\n",
              "      <td>86308857000</td>\n",
              "      <td>19767643875</td>\n",
              "      <td>21</td>\n",
              "      <td>941316375</td>\n",
              "    </tr>\n",
              "    <tr>\n",
              "      <th>744</th>\n",
              "      <td>2017-03-11</td>\n",
              "      <td>1</td>\n",
              "      <td>2</td>\n",
              "      <td>3</td>\n",
              "      <td>9</td>\n",
              "      <td>12</td>\n",
              "      <td>23</td>\n",
              "      <td>10</td>\n",
              "      <td>73575119000</td>\n",
              "      <td>14936459640</td>\n",
              "      <td>20</td>\n",
              "      <td>746822982</td>\n",
              "    </tr>\n",
              "    <tr>\n",
              "      <th>380</th>\n",
              "      <td>2010-03-20</td>\n",
              "      <td>1</td>\n",
              "      <td>5</td>\n",
              "      <td>10</td>\n",
              "      <td>12</td>\n",
              "      <td>16</td>\n",
              "      <td>20</td>\n",
              "      <td>11</td>\n",
              "      <td>47943113000</td>\n",
              "      <td>10749039900</td>\n",
              "      <td>19</td>\n",
              "      <td>565738895</td>\n",
              "    </tr>\n",
              "    <tr>\n",
              "      <th>875</th>\n",
              "      <td>2019-09-14</td>\n",
              "      <td>5</td>\n",
              "      <td>16</td>\n",
              "      <td>21</td>\n",
              "      <td>26</td>\n",
              "      <td>34</td>\n",
              "      <td>42</td>\n",
              "      <td>24</td>\n",
              "      <td>85088368000</td>\n",
              "      <td>20722499264</td>\n",
              "      <td>19</td>\n",
              "      <td>1090657856</td>\n",
              "    </tr>\n",
              "    <tr>\n",
              "      <th>873</th>\n",
              "      <td>2019-08-31</td>\n",
              "      <td>1</td>\n",
              "      <td>15</td>\n",
              "      <td>19</td>\n",
              "      <td>23</td>\n",
              "      <td>28</td>\n",
              "      <td>42</td>\n",
              "      <td>32</td>\n",
              "      <td>82990138000</td>\n",
              "      <td>20108230506</td>\n",
              "      <td>18</td>\n",
              "      <td>1117123917</td>\n",
              "    </tr>\n",
              "    <tr>\n",
              "      <th>739</th>\n",
              "      <td>2017-02-04</td>\n",
              "      <td>4</td>\n",
              "      <td>8</td>\n",
              "      <td>9</td>\n",
              "      <td>16</td>\n",
              "      <td>17</td>\n",
              "      <td>19</td>\n",
              "      <td>31</td>\n",
              "      <td>75186520000</td>\n",
              "      <td>16864736256</td>\n",
              "      <td>18</td>\n",
              "      <td>936929792</td>\n",
              "    </tr>\n",
              "  </tbody>\n",
              "</table>\n",
              "</div>"
            ],
            "text/plain": [
              "            추첨일  No1  No2  No3  ...        총판매금액       1등총당첨금  1등당첨게임수      1등당첨금액\n",
              "545  2013-05-18    8   17   20  ...  56713166000  12178198500       30   405939950\n",
              "20   2003-04-26    6   12   17  ...  84247142000            0       23   797475400\n",
              "776  2017-10-21    6   12   17  ...  75534360000  17502828756       21   833468036\n",
              "756  2017-06-03    6    7   11  ...  71053002000  15536637018       21   739839858\n",
              "909  2020-05-09    1   11   17  ...  86308857000  19767643875       21   941316375\n",
              "744  2017-03-11    1    2    3  ...  73575119000  14936459640       20   746822982\n",
              "380  2010-03-20    1    5   10  ...  47943113000  10749039900       19   565738895\n",
              "875  2019-09-14    5   16   21  ...  85088368000  20722499264       19  1090657856\n",
              "873  2019-08-31    1   15   19  ...  82990138000  20108230506       18  1117123917\n",
              "739  2017-02-04    4    8    9  ...  75186520000  16864736256       18   936929792\n",
              "\n",
              "[10 rows x 12 columns]"
            ]
          },
          "metadata": {
            "tags": []
          },
          "execution_count": 52
        }
      ]
    },
    {
      "cell_type": "code",
      "metadata": {
        "id": "IPk-g6ER5d4o"
      },
      "source": [
        ""
      ],
      "execution_count": null,
      "outputs": []
    }
  ]
}